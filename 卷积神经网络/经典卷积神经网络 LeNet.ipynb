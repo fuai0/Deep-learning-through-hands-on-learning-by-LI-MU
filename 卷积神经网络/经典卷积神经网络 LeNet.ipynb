{
 "cells": [
  {
   "cell_type": "code",
   "execution_count": 5,
   "id": "0d704410",
   "metadata": {
    "ExecuteTime": {
     "end_time": "2023-06-28T11:45:15.891270Z",
     "start_time": "2023-06-28T11:45:15.879679Z"
    }
   },
   "outputs": [],
   "source": [
    "import torch\n",
    "from torch import nn\n",
    "from d2l import torch as d2l\n",
    "\n",
    "class Reshape(nn.Module):\n",
    "    def forward(self,x):\n",
    "        return x.view(-1,1,28,28)\n",
    "    \n",
    "net = nn.Sequential(\n",
    "    Reshape(),\n",
    "    nn.Conv2d(1,6,kernel_size=5,padding=2),nn.Sigmoid(),\n",
    "    nn.AvgPool2d(kernel_size=2,stride=2),\n",
    "    nn.Conv2d(6,16,kernel_size=5),nn.Sigmoid(),\n",
    "    nn.AvgPool2d(kernel_size=2,stride=2),nn.Flatten(),\n",
    "    nn.Linear(16*5*5,120),nn.Sigmoid(),\n",
    "    nn.Linear(120,84),nn.Sigmoid(),\n",
    "    nn.Linear(84,10)\n",
    ")"
   ]
  },
  {
   "cell_type": "code",
   "execution_count": 6,
   "id": "57393243",
   "metadata": {
    "ExecuteTime": {
     "end_time": "2023-06-28T11:45:16.315707Z",
     "start_time": "2023-06-28T11:45:16.305385Z"
    }
   },
   "outputs": [
    {
     "name": "stdout",
     "output_type": "stream",
     "text": [
      "Reshape shape: torch.Size([1, 1, 28, 28])\n",
      "Conv2d shape: torch.Size([1, 6, 28, 28])\n",
      "Sigmoid shape: torch.Size([1, 6, 28, 28])\n",
      "AvgPool2d shape: torch.Size([1, 6, 14, 14])\n",
      "Conv2d shape: torch.Size([1, 16, 10, 10])\n",
      "Sigmoid shape: torch.Size([1, 16, 10, 10])\n",
      "AvgPool2d shape: torch.Size([1, 16, 5, 5])\n",
      "Flatten shape: torch.Size([1, 400])\n",
      "Linear shape: torch.Size([1, 120])\n",
      "Sigmoid shape: torch.Size([1, 120])\n",
      "Linear shape: torch.Size([1, 84])\n",
      "Sigmoid shape: torch.Size([1, 84])\n",
      "Linear shape: torch.Size([1, 10])\n"
     ]
    }
   ],
   "source": [
    "x = torch.rand(size=(1,1,28,28),dtype=torch.float32)\n",
    "for layer in net:\n",
    "    x = layer(x)\n",
    "    print(layer.__class__.__name__,\"shape:\",x.shape)"
   ]
  },
  {
   "cell_type": "code",
   "execution_count": 7,
   "id": "197c4123",
   "metadata": {
    "ExecuteTime": {
     "end_time": "2023-06-28T11:45:16.835578Z",
     "start_time": "2023-06-28T11:45:16.756477Z"
    }
   },
   "outputs": [],
   "source": [
    "batch_size = 256\n",
    "train_iter,test_iter = d2l.load_data_fashion_mnist(batch_size=batch_size)"
   ]
  },
  {
   "cell_type": "code",
   "execution_count": 8,
   "id": "5a292e59",
   "metadata": {
    "ExecuteTime": {
     "end_time": "2023-06-28T11:45:18.630743Z",
     "start_time": "2023-06-28T11:45:18.625240Z"
    }
   },
   "outputs": [],
   "source": [
    "def evaluate_accuracy_gpu(net,data_iter,device=None):\n",
    "    \"\"\"使用gpu计算模型在数据集上的精度\"\"\"\n",
    "    if isinstance(net,nn.Module):\n",
    "        net.eval()\n",
    "        if not device:\n",
    "            device = next(iter(net.parameters())).device\n",
    "    metric = d2l.Accumulator(2)\n",
    "    for X,y in data_iter:\n",
    "        if isinstance(X,list):\n",
    "            X = [x.to(device) for x in X]\n",
    "        else:\n",
    "            X = X.to(device)\n",
    "        y = y.to(device)\n",
    "        metric.add(d2l.accuracy(net(X),y),y.numel())\n",
    "    return metric[0]/metric[1]"
   ]
  },
  {
   "cell_type": "code",
   "execution_count": 9,
   "id": "81ae69f8",
   "metadata": {
    "ExecuteTime": {
     "end_time": "2023-06-28T11:45:19.054351Z",
     "start_time": "2023-06-28T11:45:19.044466Z"
    }
   },
   "outputs": [],
   "source": [
    "def train(net,train_iter,test_iter,num_epochs,lr,device):\n",
    "    \"\"\"使用gpu训练一个模型\"\"\"\n",
    "    def init_weights(m):\n",
    "        if type(m) == nn.Linear or type(m) == nn.Conv2d:\n",
    "            nn.init.xavier_uniform_(m.weight)\n",
    "    net.apply(init_weights)\n",
    "    print(\"training on\",device)\n",
    "    net.to(device)\n",
    "    optimizer = torch.optim.SGD(net.parameters(),lr=lr)\n",
    "    loss = nn.CrossEntropyLoss()\n",
    "    animator = d2l.Animator(xlabel='epoch',xlim=[1,num_epochs],\n",
    "                           legend=['train loss','train acc','test acc'])\n",
    "    timer,num_batches = d2l.Timer(),len(train_iter)\n",
    "    for epoch in range(num_epochs):\n",
    "        metric = d2l.Accumulator(3)\n",
    "        net.train()\n",
    "        for i,(X,y) in enumerate(train_iter):\n",
    "            timer.start()\n",
    "            optimizer.zero_grad()\n",
    "            X,y = X.to(device),y.to(device)\n",
    "            y_hat = net(X)\n",
    "            l = loss(y_hat,y)\n",
    "            l.backward()\n",
    "            optimizer.step()\n",
    "            with torch.no_grad():\n",
    "                metric.add(l * X.shape[0], d2l.accuracy(y_hat, y), X.shape[0])\n",
    "            timer.stop()\n",
    "            train_l = metric[0]/metric[2]\n",
    "            train_acc = metric[1]/metric[2]\n",
    "            if (i+1)%(num_batches//5) == 0 or i == num_batches-1:\n",
    "                animator.add(epoch + (i+1)/num_batches,(train_l,train_acc,None))\n",
    "        test_acc = evaluate_accuracy_gpu(net,test_iter)\n",
    "        animator.add(epoch+1,(None,None,test_acc))\n",
    "    print(f'loss {train_l:.3f}, train acc {train_acc:.3f}, '\n",
    "          f'test acc {test_acc:.3f}')\n",
    "    print(f'{metric[2] * num_epochs / timer.sum():.1f} examples/sec '\n",
    "          f'on {str(device)}')"
   ]
  },
  {
   "cell_type": "code",
   "execution_count": 13,
   "id": "98d45b3d",
   "metadata": {
    "ExecuteTime": {
     "end_time": "2023-06-28T11:45:54.554773Z",
     "start_time": "2023-06-28T11:45:54.545965Z"
    }
   },
   "outputs": [
    {
     "ename": "AttributeError",
     "evalue": "'DataLoader' object has no attribute 'shape'",
     "output_type": "error",
     "traceback": [
      "\u001b[1;31m---------------------------------------------------------------------------\u001b[0m",
      "\u001b[1;31mAttributeError\u001b[0m                            Traceback (most recent call last)",
      "\u001b[1;32m~\\AppData\\Local\\Temp\\ipykernel_10904\\4055313915.py\u001b[0m in \u001b[0;36m<module>\u001b[1;34m\u001b[0m\n\u001b[0;32m      1\u001b[0m \u001b[1;31m# lr,num_epochs = 0.9,10\u001b[0m\u001b[1;33m\u001b[0m\u001b[1;33m\u001b[0m\u001b[1;33m\u001b[0m\u001b[0m\n\u001b[0;32m      2\u001b[0m \u001b[1;31m# train(net,train_iter,test_iter,num_epochs,lr,d2l.try_gpu())\u001b[0m\u001b[1;33m\u001b[0m\u001b[1;33m\u001b[0m\u001b[1;33m\u001b[0m\u001b[0m\n\u001b[1;32m----> 3\u001b[1;33m \u001b[0mtrain_iter\u001b[0m\u001b[1;33m.\u001b[0m\u001b[0mshape\u001b[0m\u001b[1;33m\u001b[0m\u001b[1;33m\u001b[0m\u001b[0m\n\u001b[0m",
      "\u001b[1;31mAttributeError\u001b[0m: 'DataLoader' object has no attribute 'shape'"
     ]
    }
   ],
   "source": [
    "# lr,num_epochs = 0.9,10\n",
    "# train(net,train_iter,test_iter,num_epochs,lr,d2l.try_gpu())"
   ]
  },
  {
   "cell_type": "code",
   "execution_count": null,
   "id": "cf817439",
   "metadata": {},
   "outputs": [],
   "source": []
  }
 ],
 "metadata": {
  "kernelspec": {
   "display_name": "Python [conda env:pytorch37] *",
   "language": "python",
   "name": "conda-env-pytorch37-py"
  },
  "language_info": {
   "codemirror_mode": {
    "name": "ipython",
    "version": 3
   },
   "file_extension": ".py",
   "mimetype": "text/x-python",
   "name": "python",
   "nbconvert_exporter": "python",
   "pygments_lexer": "ipython3",
   "version": "3.7.16"
  }
 },
 "nbformat": 4,
 "nbformat_minor": 5
}
